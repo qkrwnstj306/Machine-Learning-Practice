{
  "cells": [
    {
      "cell_type": "markdown",
      "metadata": {
        "id": "dN3ZQlftiUvA"
      },
      "source": [
        "# Variational Autoencoder\n"
      ]
    },
    {
      "cell_type": "markdown",
      "source": [
        "\n",
        "## 실습 목표\n",
        "-----\n",
        "- VAE를 설계하고 학습시켜 이미지를 생성하는 모델을 만듭니다. (데이터셋: MNIST)\n"
      ],
      "metadata": {
        "id": "Si4edNyJnNV9"
      }
    },
    {
      "cell_type": "markdown",
      "source": [
        "## 문제 정의\n",
        "\n",
        "- VAE\n",
        "\n",
        "![image](https://upload.wikimedia.org/wikipedia/commons/1/11/Reparameterized_Variational_Autoencoder.png)"
      ],
      "metadata": {
        "id": "jQtsmIWRnw6C"
      }
    },
    {
      "cell_type": "markdown",
      "source": [
        "## VAE"
      ],
      "metadata": {
        "id": "wtkvHBsvno7G"
      }
    },
    {
      "cell_type": "markdown",
      "metadata": {
        "id": "d6HMrwnVi_GJ"
      },
      "source": [
        "### [Step1] Load libraries & Datasets"
      ]
    },
    {
      "cell_type": "code",
      "execution_count": null,
      "metadata": {
        "id": "UdsAY_OFiAwA"
      },
      "outputs": [],
      "source": [
        "import numpy as np\n",
        "import matplotlib.pyplot as plt\n",
        "\n",
        "from torchvision.transforms import ToTensor\n",
        "\n",
        "from torch.utils.data import DataLoader\n",
        "from torchvision import datasets, transforms\n",
        "\n",
        "import torch.nn as nn\n",
        "import torch.nn.functional as F\n",
        "import torch"
      ]
    },
    {
      "cell_type": "code",
      "execution_count": null,
      "metadata": {
        "id": "ZlYOr3HO08SB"
      },
      "outputs": [],
      "source": [
        "train_images = datasets.MNIST(\n",
        "    root= 'data',\n",
        "    train= True,\n",
        "    download= True,\n",
        "    transform= ToTensor() \n",
        ")\n",
        "\n",
        "test_images = datasets.MNIST(\n",
        "    root= 'data',\n",
        "    train= True,\n",
        "    download= True,\n",
        "    transform= ToTensor() \n",
        ")"
      ]
    },
    {
      "cell_type": "markdown",
      "metadata": {
        "id": "ZrvBFrxZc4fE"
      },
      "source": [
        "### [Step2] Set hyperparameters"
      ]
    },
    {
      "cell_type": "code",
      "execution_count": null,
      "metadata": {
        "id": "Sr_byfTV3mPj"
      },
      "outputs": [],
      "source": [
        "# 하이퍼파라미터 준비\n",
        "EPOCH = 10\n",
        "BATCH_SIZE = 64\n",
        "LEARNING_RATE = 1e-3\n",
        "DEVICE = torch.device(\"cuda\" if torch.cuda.is_available() else \"cpu\")\n",
        "print(\"Using Device:\", DEVICE)"
      ]
    },
    {
      "cell_type": "markdown",
      "metadata": {
        "id": "UOCru_ENcmnF"
      },
      "source": [
        "### [Step3] Create DataLoader"
      ]
    },
    {
      "cell_type": "code",
      "execution_count": null,
      "metadata": {
        "id": "kpq8KQmccP2V"
      },
      "outputs": [],
      "source": [
        "train_loader = DataLoader(train_images, batch_size = BATCH_SIZE, shuffle = True)\n",
        "test_loader = DataLoader(test_images, batch_size = BATCH_SIZE, shuffle = True)"
      ]
    },
    {
      "cell_type": "markdown",
      "metadata": {
        "id": "s5Q2-2tSddEW"
      },
      "source": [
        "### [Step4] Set Network Structure ([구조](https://upload.wikimedia.org/wikipedia/commons/1/11/Reparameterized_Variational_Autoencoder.png))"
      ]
    },
    {
      "cell_type": "code",
      "execution_count": null,
      "metadata": {
        "id": "TFQ1onHz3xs7"
      },
      "outputs": [],
      "source": [
        "class VAE(nn.Module):\n",
        "    def __init__(self, latent_dim):\n",
        "        super(VAE, self).__init__()\n",
        "        self.flatten = nn.Flatten()\n",
        "        self.encoder = nn.Sequential(\n",
        "            nn.Linear(28 * 28, 512),\n",
        "            nn.ReLU(),\n",
        "            nn.Linear(512, 256),\n",
        "            nn.ReLU(),\n",
        "        )\n",
        "        self.fc_mu = nn.Linear(256, latent_dim)\n",
        "        self.fc_var = nn.Linear(256, latent_dim)\n",
        "        self.decoder = nn.Sequential(\n",
        "            nn.Linear(latent_dim, 256),\n",
        "            nn.ReLU(),\n",
        "            nn.Linear(256, 512),\n",
        "            nn.ReLU(),\n",
        "            nn.Linear(512, 28 * 28),\n",
        "            nn.Sigmoid(),\n",
        "        )\n",
        "\n",
        "    def encode(self, x):            \n",
        "        result = self.encoder(x)\n",
        "        mu = self.fc_mu(result)\n",
        "        var = self.fc_var(result)\n",
        "        return mu, var\n",
        "\n",
        "    def decode(self, z):\n",
        "        result = self.decoder(z)\n",
        "        return result   \n",
        "\n",
        "    def reparameterize(self, mu, var):\n",
        "        std = torch.exp(var / 2)\n",
        "        eps = torch.randn_like(std)\n",
        "        return mu + (eps * std) \n",
        "\n",
        "    def forward(self, x):\n",
        "        x = self.flatten(x)\n",
        "        mu, var = self.encode(x)\n",
        "        z = self.reparameterize(mu, var)\n",
        "        out = self.decode(z)\n",
        "        return  out, mu, var"
      ]
    },
    {
      "cell_type": "markdown",
      "metadata": {
        "id": "889cyMZvdn_4"
      },
      "source": [
        "### [Step5] Create Model instance"
      ]
    },
    {
      "cell_type": "code",
      "execution_count": null,
      "metadata": {
        "id": "sBiPO3Y95AX0"
      },
      "outputs": [],
      "source": [
        "model = VAE(10).to(DEVICE)\n",
        "print(model)"
      ]
    },
    {
      "cell_type": "markdown",
      "metadata": {
        "id": "hvmWWqfgdwe2"
      },
      "source": [
        "### [Step6] Model compile"
      ]
    },
    {
      "cell_type": "code",
      "execution_count": null,
      "metadata": {
        "id": "5BcXN_Vpdml3"
      },
      "outputs": [],
      "source": [
        "def loss_function(recon_x, x, mu, var):\n",
        "    recon_loss = F.binary_cross_entropy(recon_x, x.view(-1, 28*28), reduction='sum')\n",
        "    kl_loss = -0.5 * torch.sum(1 + var - mu.pow(2) - var.exp())\n",
        "    return recon_loss + kl_loss\n",
        "    \n",
        "optimizer = torch.optim.Adam(model.parameters(), lr= LEARNING_RATE)"
      ]
    },
    {
      "cell_type": "markdown",
      "metadata": {
        "id": "7lYADLrVe5xY"
      },
      "source": [
        "### [Step7] Set train loop"
      ]
    },
    {
      "cell_type": "code",
      "execution_count": null,
      "metadata": {
        "id": "Zlz4fwtj6KfQ"
      },
      "outputs": [],
      "source": [
        "def train(train_loader, model, loss_fn, optimizer):\n",
        "    model.train()\n",
        "\n",
        "    for batch, (X, y) in enumerate(train_loader):\n",
        "        X, y = X.to(DEVICE), y.to(DEVICE)\n",
        "        decoded, mu, var= model(X)\n",
        "\n",
        "        # 손실계산\n",
        "        loss = loss_fn(decoded, X, mu, var)\n",
        "\n",
        "        # 역전파\n",
        "        optimizer.zero_grad() \n",
        "        loss.backward()\n",
        "        optimizer.step()\n",
        "\n",
        "    # 결과 시각화\n",
        "    origin_data = X[:5].view(-1, 28*28).type(torch.FloatTensor)/255.\n",
        "    decoded_data = decoded[:5].view(-1, 28*28).type(torch.FloatTensor)/255.\n",
        " \n",
        "    f, axs = plt.subplots(2, 5, figsize=(5, 2))    \n",
        "    for i in range(5):\n",
        "        img = np.reshape(origin_data.data.numpy()[i],(28, 28))\n",
        "        axs[0][i].imshow(img, cmap='gray')\n",
        "        axs[0][i].set_xticks(())\n",
        "        axs[0][i].set_yticks(())\n",
        "\n",
        "    for i in range(5):\n",
        "        img = np.reshape(decoded_data.to(\"cpu\").data.numpy()[i], (28, 28)) \n",
        "        axs[1][i].imshow(img, cmap='gray')\n",
        "        axs[1][i].set_xticks(()) \n",
        "        axs[1][i].set_yticks(())\n",
        "    plt.show()"
      ]
    },
    {
      "cell_type": "markdown",
      "source": [
        "### [Step8] Run Model"
      ],
      "metadata": {
        "id": "P8dpmqgWVI6L"
      }
    },
    {
      "cell_type": "code",
      "execution_count": null,
      "metadata": {
        "id": "r_SZYRSF614G"
      },
      "outputs": [],
      "source": [
        "for i in range(EPOCH):\n",
        "    print(f\"Epoch {i+1} \\n------------------------\")\n",
        "    train(train_loader, model, loss_function, optimizer)"
      ]
    },
    {
      "cell_type": "markdown",
      "metadata": {
        "id": "3My9SJQa8IdQ"
      },
      "source": [
        "- reference\n",
        "    - https://github.com/lyeoni/pytorch-mnist-VAE/blob/master/pytorch-mnist-VAE.ipynb\n",
        "    - https://subinium.github.io/VAE-AE/\n",
        "    - https://github.com/AntixK/PyTorch-VAE/blob/a6896b944c918dd7030e7d795a8c13e5c6345ec7/models/vanilla_vae.py#L2\n",
        "    - https://www.slideshare.net/NaverEngineering/ss-96581209\n",
        "    - https://github.com/pytorch/examples/blob/main/vae/main.py\n"
      ]
    }
  ],
  "metadata": {
    "colab": {
      "private_outputs": true,
      "provenance": [],
      "toc_visible": true
    },
    "kernelspec": {
      "display_name": "Python 3",
      "language": "python",
      "name": "python3"
    },
    "language_info": {
      "codemirror_mode": {
        "name": "ipython",
        "version": 3
      },
      "file_extension": ".py",
      "mimetype": "text/x-python",
      "name": "python",
      "nbconvert_exporter": "python",
      "pygments_lexer": "ipython3",
      "version": "3.8.5"
    },
    "toc": {
      "base_numbering": 1,
      "nav_menu": {},
      "number_sections": false,
      "sideBar": true,
      "skip_h1_title": false,
      "title_cell": "Table of Contents",
      "title_sidebar": "Contents",
      "toc_cell": false,
      "toc_position": {},
      "toc_section_display": true,
      "toc_window_display": false
    },
    "accelerator": "GPU",
    "gpuClass": "standard"
  },
  "nbformat": 4,
  "nbformat_minor": 0
}
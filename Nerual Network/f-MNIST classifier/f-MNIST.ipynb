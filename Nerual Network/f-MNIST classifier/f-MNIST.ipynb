{
 "cells": [
  {
   "cell_type": "markdown",
   "id": "be1b70ca",
   "metadata": {},
   "source": [
    "* using Fashion MNIST"
   ]
  },
  {
   "cell_type": "code",
   "execution_count": 1,
   "id": "7f906895",
   "metadata": {},
   "outputs": [],
   "source": [
    "import numpy as np\n",
    "import matplotlib.pyplot as plt\n",
    "\n",
    "import torch\n",
    "from torch.utils.data import DataLoader\n",
    "from torch import nn\n",
    "\n",
    "from torchvision import datasets\n",
    "from torchvision.transforms import ToTensor"
   ]
  },
  {
   "cell_type": "code",
   "execution_count": 2,
   "id": "54e5a861",
   "metadata": {},
   "outputs": [
    {
     "name": "stdout",
     "output_type": "stream",
     "text": [
      "Requirement already satisfied: torch in /home/qkrwnstj/anaconda3/envs/pytorch/lib/python3.8/site-packages (2.0.1)\n",
      "Requirement already satisfied: torchvision in /home/qkrwnstj/anaconda3/envs/pytorch/lib/python3.8/site-packages (0.15.2)\n",
      "Requirement already satisfied: filelock in /home/qkrwnstj/.local/lib/python3.8/site-packages (from torch) (3.9.0)\n",
      "Requirement already satisfied: typing-extensions in /home/qkrwnstj/.local/lib/python3.8/site-packages (from torch) (4.4.0)\n",
      "Requirement already satisfied: sympy in /home/qkrwnstj/anaconda3/envs/pytorch/lib/python3.8/site-packages (from torch) (1.11.1)\n",
      "Requirement already satisfied: networkx in /home/qkrwnstj/anaconda3/envs/pytorch/lib/python3.8/site-packages (from torch) (3.1)\n",
      "Requirement already satisfied: jinja2 in /home/qkrwnstj/anaconda3/envs/pytorch/lib/python3.8/site-packages (from torch) (3.1.2)\n",
      "Requirement already satisfied: nvidia-cuda-nvrtc-cu11==11.7.99 in /home/qkrwnstj/anaconda3/envs/pytorch/lib/python3.8/site-packages (from torch) (11.7.99)\n",
      "Requirement already satisfied: nvidia-cuda-runtime-cu11==11.7.99 in /home/qkrwnstj/anaconda3/envs/pytorch/lib/python3.8/site-packages (from torch) (11.7.99)\n",
      "Requirement already satisfied: nvidia-cuda-cupti-cu11==11.7.101 in /home/qkrwnstj/anaconda3/envs/pytorch/lib/python3.8/site-packages (from torch) (11.7.101)\n",
      "Requirement already satisfied: nvidia-cudnn-cu11==8.5.0.96 in /home/qkrwnstj/anaconda3/envs/pytorch/lib/python3.8/site-packages (from torch) (8.5.0.96)\n",
      "Requirement already satisfied: nvidia-cublas-cu11==11.10.3.66 in /home/qkrwnstj/anaconda3/envs/pytorch/lib/python3.8/site-packages (from torch) (11.10.3.66)\n",
      "Requirement already satisfied: nvidia-cufft-cu11==10.9.0.58 in /home/qkrwnstj/anaconda3/envs/pytorch/lib/python3.8/site-packages (from torch) (10.9.0.58)\n",
      "Requirement already satisfied: nvidia-curand-cu11==10.2.10.91 in /home/qkrwnstj/anaconda3/envs/pytorch/lib/python3.8/site-packages (from torch) (10.2.10.91)\n",
      "Requirement already satisfied: nvidia-cusolver-cu11==11.4.0.1 in /home/qkrwnstj/anaconda3/envs/pytorch/lib/python3.8/site-packages (from torch) (11.4.0.1)\n",
      "Requirement already satisfied: nvidia-cusparse-cu11==11.7.4.91 in /home/qkrwnstj/anaconda3/envs/pytorch/lib/python3.8/site-packages (from torch) (11.7.4.91)\n",
      "Requirement already satisfied: nvidia-nccl-cu11==2.14.3 in /home/qkrwnstj/anaconda3/envs/pytorch/lib/python3.8/site-packages (from torch) (2.14.3)\n",
      "Requirement already satisfied: nvidia-nvtx-cu11==11.7.91 in /home/qkrwnstj/anaconda3/envs/pytorch/lib/python3.8/site-packages (from torch) (11.7.91)\n",
      "Requirement already satisfied: triton==2.0.0 in /home/qkrwnstj/anaconda3/envs/pytorch/lib/python3.8/site-packages (from torch) (2.0.0)\n",
      "Requirement already satisfied: setuptools in /home/qkrwnstj/anaconda3/envs/pytorch/lib/python3.8/site-packages (from nvidia-cublas-cu11==11.10.3.66->torch) (65.5.0)\n",
      "Requirement already satisfied: wheel in /home/qkrwnstj/anaconda3/envs/pytorch/lib/python3.8/site-packages (from nvidia-cublas-cu11==11.10.3.66->torch) (0.37.1)\n",
      "Requirement already satisfied: cmake in /home/qkrwnstj/anaconda3/envs/pytorch/lib/python3.8/site-packages (from triton==2.0.0->torch) (3.26.3)\n",
      "Requirement already satisfied: lit in /home/qkrwnstj/anaconda3/envs/pytorch/lib/python3.8/site-packages (from triton==2.0.0->torch) (16.0.3)\n",
      "Requirement already satisfied: numpy in /home/qkrwnstj/anaconda3/envs/pytorch/lib/python3.8/site-packages (from torchvision) (1.21.2)\n",
      "Requirement already satisfied: requests in /home/qkrwnstj/anaconda3/envs/pytorch/lib/python3.8/site-packages (from torchvision) (2.28.1)\n",
      "Requirement already satisfied: pillow!=8.3.*,>=5.3.0 in /home/qkrwnstj/anaconda3/envs/pytorch/lib/python3.8/site-packages (from torchvision) (9.3.0)\n",
      "Requirement already satisfied: MarkupSafe>=2.0 in /home/qkrwnstj/anaconda3/envs/pytorch/lib/python3.8/site-packages (from jinja2->torch) (2.1.1)\n",
      "Requirement already satisfied: charset-normalizer<3,>=2 in /home/qkrwnstj/anaconda3/envs/pytorch/lib/python3.8/site-packages (from requests->torchvision) (2.1.1)\n",
      "Requirement already satisfied: idna<4,>=2.5 in /home/qkrwnstj/anaconda3/envs/pytorch/lib/python3.8/site-packages (from requests->torchvision) (3.4)\n",
      "Requirement already satisfied: urllib3<1.27,>=1.21.1 in /home/qkrwnstj/anaconda3/envs/pytorch/lib/python3.8/site-packages (from requests->torchvision) (1.26.13)\n",
      "Requirement already satisfied: certifi>=2017.4.17 in /home/qkrwnstj/anaconda3/envs/pytorch/lib/python3.8/site-packages (from requests->torchvision) (2023.5.7)\n",
      "Requirement already satisfied: mpmath>=0.19 in /home/qkrwnstj/anaconda3/envs/pytorch/lib/python3.8/site-packages (from sympy->torch) (1.3.0)\n"
     ]
    }
   ],
   "source": [
    "#dataset을 못 불러오면 실행\n",
    "!pip install --upgrade torch torchvision"
   ]
  },
  {
   "cell_type": "code",
   "execution_count": 3,
   "id": "78cc37c5",
   "metadata": {},
   "outputs": [],
   "source": [
    "training_data = datasets.FashionMNIST(\n",
    "    root = 'data',\n",
    "    train = True,\n",
    "    download = True,\n",
    "    transform = ToTensor(),\n",
    ")\n",
    "\n",
    "test_data = datasets.FashionMNIST(\n",
    "    root = 'data',\n",
    "    train = False,\n",
    "    download = True,\n",
    "    transform = ToTensor(),\n",
    ")"
   ]
  },
  {
   "cell_type": "code",
   "execution_count": 4,
   "id": "6acf2ea5",
   "metadata": {},
   "outputs": [],
   "source": [
    "train_dataloader = DataLoader(training_data, batch_size = 64, shuffle = True)\n",
    "test_dataloader = DataLoader(test_data, batch_size = 64, shuffle = False)"
   ]
  },
  {
   "cell_type": "code",
   "execution_count": 5,
   "id": "80f8e75c",
   "metadata": {},
   "outputs": [
    {
     "name": "stdout",
     "output_type": "stream",
     "text": [
      "device = cpu\n"
     ]
    },
    {
     "name": "stderr",
     "output_type": "stream",
     "text": [
      "/home/qkrwnstj/anaconda3/envs/pytorch/lib/python3.8/site-packages/torch/cuda/__init__.py:107: UserWarning: CUDA initialization: Unexpected error from cudaGetDeviceCount(). Did you run some cuda functions before calling NumCudaDevices() that might have already set an error? Error 804: forward compatibility was attempted on non supported HW (Triggered internally at ../c10/cuda/CUDAFunctions.cpp:109.)\n",
      "  return torch._C._cuda_getDeviceCount() > 0\n"
     ]
    }
   ],
   "source": [
    "device = 'cuda' if torch.cuda.is_available() else 'cpu'\n",
    "print(f'device = {device}')"
   ]
  },
  {
   "cell_type": "code",
   "execution_count": 6,
   "id": "b12c7625",
   "metadata": {},
   "outputs": [
    {
     "name": "stdout",
     "output_type": "stream",
     "text": [
      "Dataset FashionMNIST\n",
      "    Number of datapoints: 60000\n",
      "    Root location: data\n",
      "    Split: Train\n",
      "    StandardTransform\n",
      "Transform: ToTensor() \n",
      "---------------------------------------------------\n",
      " Dataset FashionMNIST\n",
      "    Number of datapoints: 10000\n",
      "    Root location: data\n",
      "    Split: Test\n",
      "    StandardTransform\n",
      "Transform: ToTensor()\n"
     ]
    }
   ],
   "source": [
    "print(training_data, '\\n---------------------------------------------------\\n', test_data)"
   ]
  },
  {
   "cell_type": "code",
   "execution_count": 7,
   "id": "1f120ad5",
   "metadata": {},
   "outputs": [
    {
     "data": {
      "text/plain": [
       "(tensor([[[0.0000, 0.0000, 0.0000, 0.0000, 0.0000, 0.0000, 0.0000, 0.0000,\n",
       "           0.0000, 0.0000, 0.0000, 0.0000, 0.0000, 0.0000, 0.0000, 0.0000,\n",
       "           0.0000, 0.0000, 0.0000, 0.0000, 0.0000, 0.0000, 0.0000, 0.0000,\n",
       "           0.0000, 0.0000, 0.0000, 0.0000],\n",
       "          [0.0000, 0.0000, 0.0000, 0.0000, 0.0000, 0.0000, 0.0000, 0.0000,\n",
       "           0.0000, 0.0000, 0.0000, 0.0000, 0.0000, 0.0000, 0.0000, 0.0000,\n",
       "           0.0000, 0.0000, 0.0000, 0.0000, 0.0000, 0.0000, 0.0000, 0.0000,\n",
       "           0.0000, 0.0000, 0.0000, 0.0000],\n",
       "          [0.0000, 0.0000, 0.0000, 0.0000, 0.0000, 0.0000, 0.0000, 0.0000,\n",
       "           0.0000, 0.0000, 0.0000, 0.0000, 0.0000, 0.0000, 0.0000, 0.0000,\n",
       "           0.0000, 0.0000, 0.0000, 0.0000, 0.0000, 0.0000, 0.0000, 0.0000,\n",
       "           0.0000, 0.0000, 0.0000, 0.0000],\n",
       "          [0.0000, 0.0000, 0.0000, 0.0000, 0.0000, 0.0000, 0.0000, 0.0000,\n",
       "           0.0000, 0.0000, 0.0000, 0.0000, 0.0039, 0.0000, 0.0000, 0.0510,\n",
       "           0.2863, 0.0000, 0.0000, 0.0039, 0.0157, 0.0000, 0.0000, 0.0000,\n",
       "           0.0000, 0.0039, 0.0039, 0.0000],\n",
       "          [0.0000, 0.0000, 0.0000, 0.0000, 0.0000, 0.0000, 0.0000, 0.0000,\n",
       "           0.0000, 0.0000, 0.0000, 0.0000, 0.0118, 0.0000, 0.1412, 0.5333,\n",
       "           0.4980, 0.2431, 0.2118, 0.0000, 0.0000, 0.0000, 0.0039, 0.0118,\n",
       "           0.0157, 0.0000, 0.0000, 0.0118],\n",
       "          [0.0000, 0.0000, 0.0000, 0.0000, 0.0000, 0.0000, 0.0000, 0.0000,\n",
       "           0.0000, 0.0000, 0.0000, 0.0000, 0.0235, 0.0000, 0.4000, 0.8000,\n",
       "           0.6902, 0.5255, 0.5647, 0.4824, 0.0902, 0.0000, 0.0000, 0.0000,\n",
       "           0.0000, 0.0471, 0.0392, 0.0000],\n",
       "          [0.0000, 0.0000, 0.0000, 0.0000, 0.0000, 0.0000, 0.0000, 0.0000,\n",
       "           0.0000, 0.0000, 0.0000, 0.0000, 0.0000, 0.0000, 0.6078, 0.9255,\n",
       "           0.8118, 0.6980, 0.4196, 0.6118, 0.6314, 0.4275, 0.2510, 0.0902,\n",
       "           0.3020, 0.5098, 0.2824, 0.0588],\n",
       "          [0.0000, 0.0000, 0.0000, 0.0000, 0.0000, 0.0000, 0.0000, 0.0000,\n",
       "           0.0000, 0.0000, 0.0000, 0.0039, 0.0000, 0.2706, 0.8118, 0.8745,\n",
       "           0.8549, 0.8471, 0.8471, 0.6392, 0.4980, 0.4745, 0.4784, 0.5725,\n",
       "           0.5529, 0.3451, 0.6745, 0.2588],\n",
       "          [0.0000, 0.0000, 0.0000, 0.0000, 0.0000, 0.0000, 0.0000, 0.0000,\n",
       "           0.0000, 0.0039, 0.0039, 0.0039, 0.0000, 0.7843, 0.9098, 0.9098,\n",
       "           0.9137, 0.8980, 0.8745, 0.8745, 0.8431, 0.8353, 0.6431, 0.4980,\n",
       "           0.4824, 0.7686, 0.8980, 0.0000],\n",
       "          [0.0000, 0.0000, 0.0000, 0.0000, 0.0000, 0.0000, 0.0000, 0.0000,\n",
       "           0.0000, 0.0000, 0.0000, 0.0000, 0.0000, 0.7176, 0.8824, 0.8471,\n",
       "           0.8745, 0.8941, 0.9216, 0.8902, 0.8784, 0.8706, 0.8784, 0.8667,\n",
       "           0.8745, 0.9608, 0.6784, 0.0000],\n",
       "          [0.0000, 0.0000, 0.0000, 0.0000, 0.0000, 0.0000, 0.0000, 0.0000,\n",
       "           0.0000, 0.0000, 0.0000, 0.0000, 0.0000, 0.7569, 0.8941, 0.8549,\n",
       "           0.8353, 0.7765, 0.7059, 0.8314, 0.8235, 0.8275, 0.8353, 0.8745,\n",
       "           0.8627, 0.9529, 0.7922, 0.0000],\n",
       "          [0.0000, 0.0000, 0.0000, 0.0000, 0.0000, 0.0000, 0.0000, 0.0000,\n",
       "           0.0000, 0.0039, 0.0118, 0.0000, 0.0471, 0.8588, 0.8627, 0.8314,\n",
       "           0.8549, 0.7529, 0.6627, 0.8902, 0.8157, 0.8549, 0.8784, 0.8314,\n",
       "           0.8863, 0.7725, 0.8196, 0.2039],\n",
       "          [0.0000, 0.0000, 0.0000, 0.0000, 0.0000, 0.0000, 0.0000, 0.0000,\n",
       "           0.0000, 0.0000, 0.0235, 0.0000, 0.3882, 0.9569, 0.8706, 0.8627,\n",
       "           0.8549, 0.7961, 0.7765, 0.8667, 0.8431, 0.8353, 0.8706, 0.8627,\n",
       "           0.9608, 0.4667, 0.6549, 0.2196],\n",
       "          [0.0000, 0.0000, 0.0000, 0.0000, 0.0000, 0.0000, 0.0000, 0.0000,\n",
       "           0.0000, 0.0157, 0.0000, 0.0000, 0.2157, 0.9255, 0.8941, 0.9020,\n",
       "           0.8941, 0.9412, 0.9098, 0.8353, 0.8549, 0.8745, 0.9176, 0.8510,\n",
       "           0.8510, 0.8196, 0.3608, 0.0000],\n",
       "          [0.0000, 0.0000, 0.0039, 0.0157, 0.0235, 0.0275, 0.0078, 0.0000,\n",
       "           0.0000, 0.0000, 0.0000, 0.0000, 0.9294, 0.8863, 0.8510, 0.8745,\n",
       "           0.8706, 0.8588, 0.8706, 0.8667, 0.8471, 0.8745, 0.8980, 0.8431,\n",
       "           0.8549, 1.0000, 0.3020, 0.0000],\n",
       "          [0.0000, 0.0118, 0.0000, 0.0000, 0.0000, 0.0000, 0.0000, 0.0000,\n",
       "           0.0000, 0.2431, 0.5686, 0.8000, 0.8941, 0.8118, 0.8353, 0.8667,\n",
       "           0.8549, 0.8157, 0.8275, 0.8549, 0.8784, 0.8745, 0.8588, 0.8431,\n",
       "           0.8784, 0.9569, 0.6235, 0.0000],\n",
       "          [0.0000, 0.0000, 0.0000, 0.0000, 0.0706, 0.1725, 0.3216, 0.4196,\n",
       "           0.7412, 0.8941, 0.8627, 0.8706, 0.8510, 0.8863, 0.7843, 0.8039,\n",
       "           0.8275, 0.9020, 0.8784, 0.9176, 0.6902, 0.7373, 0.9804, 0.9725,\n",
       "           0.9137, 0.9333, 0.8431, 0.0000],\n",
       "          [0.0000, 0.2235, 0.7333, 0.8157, 0.8784, 0.8667, 0.8784, 0.8157,\n",
       "           0.8000, 0.8392, 0.8157, 0.8196, 0.7843, 0.6235, 0.9608, 0.7569,\n",
       "           0.8078, 0.8745, 1.0000, 1.0000, 0.8667, 0.9176, 0.8667, 0.8275,\n",
       "           0.8627, 0.9098, 0.9647, 0.0000],\n",
       "          [0.0118, 0.7922, 0.8941, 0.8784, 0.8667, 0.8275, 0.8275, 0.8392,\n",
       "           0.8039, 0.8039, 0.8039, 0.8627, 0.9412, 0.3137, 0.5882, 1.0000,\n",
       "           0.8980, 0.8667, 0.7373, 0.6039, 0.7490, 0.8235, 0.8000, 0.8196,\n",
       "           0.8706, 0.8941, 0.8824, 0.0000],\n",
       "          [0.3843, 0.9137, 0.7765, 0.8235, 0.8706, 0.8980, 0.8980, 0.9176,\n",
       "           0.9765, 0.8627, 0.7608, 0.8431, 0.8510, 0.9451, 0.2549, 0.2863,\n",
       "           0.4157, 0.4588, 0.6588, 0.8588, 0.8667, 0.8431, 0.8510, 0.8745,\n",
       "           0.8745, 0.8784, 0.8980, 0.1137],\n",
       "          [0.2941, 0.8000, 0.8314, 0.8000, 0.7569, 0.8039, 0.8275, 0.8824,\n",
       "           0.8471, 0.7255, 0.7725, 0.8078, 0.7765, 0.8353, 0.9412, 0.7647,\n",
       "           0.8902, 0.9608, 0.9373, 0.8745, 0.8549, 0.8314, 0.8196, 0.8706,\n",
       "           0.8627, 0.8667, 0.9020, 0.2627],\n",
       "          [0.1882, 0.7961, 0.7176, 0.7608, 0.8353, 0.7725, 0.7255, 0.7451,\n",
       "           0.7608, 0.7529, 0.7922, 0.8392, 0.8588, 0.8667, 0.8627, 0.9255,\n",
       "           0.8824, 0.8471, 0.7804, 0.8078, 0.7294, 0.7098, 0.6941, 0.6745,\n",
       "           0.7098, 0.8039, 0.8078, 0.4510],\n",
       "          [0.0000, 0.4784, 0.8588, 0.7569, 0.7020, 0.6706, 0.7176, 0.7686,\n",
       "           0.8000, 0.8235, 0.8353, 0.8118, 0.8275, 0.8235, 0.7843, 0.7686,\n",
       "           0.7608, 0.7490, 0.7647, 0.7490, 0.7765, 0.7529, 0.6902, 0.6118,\n",
       "           0.6549, 0.6941, 0.8235, 0.3608],\n",
       "          [0.0000, 0.0000, 0.2902, 0.7412, 0.8314, 0.7490, 0.6863, 0.6745,\n",
       "           0.6863, 0.7098, 0.7255, 0.7373, 0.7412, 0.7373, 0.7569, 0.7765,\n",
       "           0.8000, 0.8196, 0.8235, 0.8235, 0.8275, 0.7373, 0.7373, 0.7608,\n",
       "           0.7529, 0.8471, 0.6667, 0.0000],\n",
       "          [0.0078, 0.0000, 0.0000, 0.0000, 0.2588, 0.7843, 0.8706, 0.9294,\n",
       "           0.9373, 0.9490, 0.9647, 0.9529, 0.9569, 0.8667, 0.8627, 0.7569,\n",
       "           0.7490, 0.7020, 0.7137, 0.7137, 0.7098, 0.6902, 0.6510, 0.6588,\n",
       "           0.3882, 0.2275, 0.0000, 0.0000],\n",
       "          [0.0000, 0.0000, 0.0000, 0.0000, 0.0000, 0.0000, 0.0000, 0.1569,\n",
       "           0.2392, 0.1725, 0.2824, 0.1608, 0.1373, 0.0000, 0.0000, 0.0000,\n",
       "           0.0000, 0.0000, 0.0000, 0.0000, 0.0000, 0.0000, 0.0000, 0.0000,\n",
       "           0.0000, 0.0000, 0.0000, 0.0000],\n",
       "          [0.0000, 0.0000, 0.0000, 0.0000, 0.0000, 0.0000, 0.0000, 0.0000,\n",
       "           0.0000, 0.0000, 0.0000, 0.0000, 0.0000, 0.0000, 0.0000, 0.0000,\n",
       "           0.0000, 0.0000, 0.0000, 0.0000, 0.0000, 0.0000, 0.0000, 0.0000,\n",
       "           0.0000, 0.0000, 0.0000, 0.0000],\n",
       "          [0.0000, 0.0000, 0.0000, 0.0000, 0.0000, 0.0000, 0.0000, 0.0000,\n",
       "           0.0000, 0.0000, 0.0000, 0.0000, 0.0000, 0.0000, 0.0000, 0.0000,\n",
       "           0.0000, 0.0000, 0.0000, 0.0000, 0.0000, 0.0000, 0.0000, 0.0000,\n",
       "           0.0000, 0.0000, 0.0000, 0.0000]]]),\n",
       " 9)"
      ]
     },
     "execution_count": 7,
     "metadata": {},
     "output_type": "execute_result"
    }
   ],
   "source": [
    "training_data[0]"
   ]
  },
  {
   "cell_type": "code",
   "execution_count": 8,
   "id": "ecbf4287",
   "metadata": {},
   "outputs": [
    {
     "name": "stdout",
     "output_type": "stream",
     "text": [
      "Feature batch shape: torch.Size([64, 1, 28, 28])\n",
      "Labels batch shape: torch.Size([64])\n"
     ]
    }
   ],
   "source": [
    "train_features, train_labels = next(iter(train_dataloader))\n",
    "print(f\"Feature batch shape: {train_features.size()}\")\n",
    "print(f\"Labels batch shape: {train_labels.size()}\")"
   ]
  },
  {
   "cell_type": "code",
   "execution_count": 12,
   "id": "f022a17d",
   "metadata": {},
   "outputs": [
    {
     "name": "stdout",
     "output_type": "stream",
     "text": [
      "label = 9\n"
     ]
    },
    {
     "data": {
      "image/png": "[encoded data removed]",
      "text/plain": [
       "<Figure size 640x480 with 1 Axes>"
      ]
     },
     "metadata": {},
     "output_type": "display_data"
    }
   ],
   "source": [
    "img, label = training_data[0]\n",
    "plt.imshow(img.squeeze(), cmap='gray')\n",
    "print(f'label = {label}')"
   ]
  },
  {
   "cell_type": "code",
   "execution_count": 13,
   "id": "454b031a",
   "metadata": {},
   "outputs": [],
   "source": [
    "labels_map = {\n",
    "    0: \"T-shirt\",\n",
    "    1: \"Trouser\",\n",
    "    2: \"Pullover\",\n",
    "    3: \"Dress\",\n",
    "    4: \"Coat\",\n",
    "    5: \"Sandal\",\n",
    "    6: \"Shirt\",\n",
    "    7: \"Sneaker\",\n",
    "    8: \"Bag\",\n",
    "    9: \"Ankel Boot\",\n",
    "}"
   ]
  },
  {
   "cell_type": "code",
   "execution_count": 18,
   "id": "ce1ed0d0",
   "metadata": {},
   "outputs": [
    {
     "data": {
      "image/png": "[encoded data removed]",
      "text/plain": [
       "<Figure size 2000x800 with 10 Axes>"
      ]
     },
     "metadata": {},
     "output_type": "display_data"
    }
   ],
   "source": [
    "figure = plt.figure(figsize = (20,8))\n",
    "cols, rows = 5, 2\n",
    "\n",
    "for i in range(1, cols*rows +1):\n",
    "    sample_idx = torch.randint(len(training_data), size=(1,)).item()\n",
    "    img, label = training_data[sample_idx]\n",
    "    figure.add_subplot(rows, cols, i)\n",
    "    plt.title(labels_map[label])\n",
    "    plt.axis('off')\n",
    "    plt.imshow(img.squeeze(), cmap='gray')\n",
    "plt.show()"
   ]
  },
  {
   "cell_type": "code",
   "execution_count": 21,
   "id": "4a31929c",
   "metadata": {},
   "outputs": [],
   "source": [
    "class NeuralNetwork(nn.Module):\n",
    "    def __init__(self):\n",
    "        super(NeuralNetwork, self).__init__()\n",
    "        self.flatten = nn.Flatten()\n",
    "        self.classifier = nn.Sequential(\n",
    "            nn.Linear(28*28, 128),\n",
    "            nn.ReLU(),\n",
    "            nn.Dropout(0.2),\n",
    "            nn.Linear(128,10),\n",
    "        )\n",
    "        \n",
    "    def forward(self,x):\n",
    "        x = self.flatten(x)\n",
    "        output = self.classifier(x)\n",
    "        return output"
   ]
  },
  {
   "cell_type": "code",
   "execution_count": 22,
   "id": "a7984d77",
   "metadata": {},
   "outputs": [
    {
     "name": "stdout",
     "output_type": "stream",
     "text": [
      "NeuralNetwork(\n",
      "  (flatten): Flatten(start_dim=1, end_dim=-1)\n",
      "  (classifier): Sequential(\n",
      "    (0): Linear(in_features=784, out_features=128, bias=True)\n",
      "    (1): ReLU()\n",
      "    (2): Dropout(p=0.2, inplace=False)\n",
      "    (3): Linear(in_features=128, out_features=10, bias=True)\n",
      "  )\n",
      ")\n"
     ]
    }
   ],
   "source": [
    "model = NeuralNetwork().to(device)\n",
    "print(model)"
   ]
  },
  {
   "cell_type": "code",
   "execution_count": 24,
   "id": "dede30c5",
   "metadata": {},
   "outputs": [
    {
     "name": "stdout",
     "output_type": "stream",
     "text": [
      "model output result : tensor([[ 0.1488, -0.1952,  0.1966,  0.0415, -0.0468, -0.3505, -0.0666,  0.1419,\n",
      "          0.0684,  0.0353]], grad_fn=<AddmmBackward0>)\n",
      "\n",
      "Softmax 결과 : tensor([[0.1149, 0.0815, 0.1206, 0.1032, 0.0945, 0.0698, 0.0927, 0.1141, 0.1061,\n",
      "         0.1026]], grad_fn=<SoftmaxBackward0>)\n",
      "\n",
      "tensor(2)\n"
     ]
    }
   ],
   "source": [
    "#model test\n",
    "X = torch.rand(1,28,28, device = device)\n",
    "output = model(X)\n",
    "print(f'model output result : {output}\\n')\n",
    "pred_probab = nn.Softmax(dim=1)(output)\n",
    "print(f'Softmax 결과 : {pred_probab}\\n')\n",
    "y_pred = pred_probab.argmax()\n",
    "print(y_pred)"
   ]
  },
  {
   "cell_type": "code",
   "execution_count": 25,
   "id": "25af1d43",
   "metadata": {},
   "outputs": [],
   "source": [
    "loss = nn.CrossEntropyLoss()\n",
    "\n",
    "lr = 1e-3 # 0.001\n",
    "optimizer = torch.optim.Adam(model.parameters(), lr = lr)"
   ]
  },
  {
   "cell_type": "code",
   "execution_count": 27,
   "id": "f222d0f8",
   "metadata": {},
   "outputs": [],
   "source": [
    "def train_loop(train_loader, model, loss_fn, optimizer):\n",
    "    size = len(train_loader.dataset)\n",
    "    \n",
    "    for batch, (X,y) in enumerate(train_loader):\n",
    "        X, y = X.to(device), y.to(device)\n",
    "        pred = model(X)\n",
    "        \n",
    "        loss = loss_fn(pred, y)\n",
    "        \n",
    "        optimizer.zero_grad()\n",
    "        loss.backward()\n",
    "        optimizer.step()\n",
    "        \n",
    "        if batch % 100 ==0:\n",
    "            loss, current = loss.item(), batch * len(X)\n",
    "            print(f'loss : {loss:>7f} [{current:>5d}]/{size:5d}')"
   ]
  },
  {
   "cell_type": "code",
   "execution_count": 30,
   "id": "5bd12982",
   "metadata": {},
   "outputs": [],
   "source": [
    "def test_loop(test_loader, model, loss_fn):\n",
    "    size = len(test_loader.dataset)\n",
    "    num_batches = len(test_loader)\n",
    "    test_loss, correct = 0, 0\n",
    "    \n",
    "    with torch.no_grad():\n",
    "        for X, y in test_loader:\n",
    "            X, y = X.to(device), y.to(device)\n",
    "            pred = model(X)\n",
    "            test_loss += loss_fn(pred,y).item()\n",
    "            correct += (pred.argmax(1) == y).type(torch.float).sum().item()\n",
    "    \n",
    "    test_loss /= num_batches\n",
    "    correct /= size\n",
    "    print(f\"Test Error: \\n Accuracy : {(100*correct):>0.1f}%, Avg Loss : {test_loss:8f}\\n\")"
   ]
  },
  {
   "cell_type": "code",
   "execution_count": 31,
   "id": "40d8dad0",
   "metadata": {},
   "outputs": [
    {
     "name": "stdout",
     "output_type": "stream",
     "text": [
      "Epoch 1 \n",
      "--------------------------------------------------\n",
      "loss : 2.260388 [    0]/60000\n",
      "loss : 0.707916 [ 6400]/60000\n",
      "loss : 0.549058 [12800]/60000\n",
      "loss : 0.646590 [19200]/60000\n",
      "loss : 0.476270 [25600]/60000\n",
      "loss : 0.515853 [32000]/60000\n",
      "loss : 0.658283 [38400]/60000\n",
      "loss : 0.529669 [44800]/60000\n",
      "loss : 0.632768 [51200]/60000\n",
      "loss : 0.419371 [57600]/60000\n",
      "Test Error: \n",
      " Accuracy : 82.5%, Avg Loss : 0.490520\n",
      "\n",
      "Epoch 2 \n",
      "--------------------------------------------------\n",
      "loss : 0.590715 [    0]/60000\n",
      "loss : 0.558388 [ 6400]/60000\n",
      "loss : 0.503984 [12800]/60000\n",
      "loss : 0.299643 [19200]/60000\n",
      "loss : 0.564143 [25600]/60000\n",
      "loss : 0.457132 [32000]/60000\n",
      "loss : 0.294648 [38400]/60000\n",
      "loss : 0.519166 [44800]/60000\n",
      "loss : 0.378485 [51200]/60000\n",
      "loss : 0.445497 [57600]/60000\n",
      "Test Error: \n",
      " Accuracy : 85.1%, Avg Loss : 0.423581\n",
      "\n",
      "Epoch 3 \n",
      "--------------------------------------------------\n",
      "loss : 0.366191 [    0]/60000\n",
      "loss : 0.301237 [ 6400]/60000\n",
      "loss : 0.670771 [12800]/60000\n",
      "loss : 0.468943 [19200]/60000\n",
      "loss : 0.352190 [25600]/60000\n",
      "loss : 0.373015 [32000]/60000\n",
      "loss : 0.317402 [38400]/60000\n",
      "loss : 0.343368 [44800]/60000\n",
      "loss : 0.307330 [51200]/60000\n",
      "loss : 0.371085 [57600]/60000\n",
      "Test Error: \n",
      " Accuracy : 85.5%, Avg Loss : 0.401450\n",
      "\n",
      "Epoch 4 \n",
      "--------------------------------------------------\n",
      "loss : 0.242955 [    0]/60000\n",
      "loss : 0.400156 [ 6400]/60000\n",
      "loss : 0.285157 [12800]/60000\n",
      "loss : 0.446193 [19200]/60000\n",
      "loss : 0.297229 [25600]/60000\n",
      "loss : 0.389920 [32000]/60000\n",
      "loss : 0.372030 [38400]/60000\n",
      "loss : 0.273007 [44800]/60000\n",
      "loss : 0.214132 [51200]/60000\n",
      "loss : 0.237997 [57600]/60000\n",
      "Test Error: \n",
      " Accuracy : 86.4%, Avg Loss : 0.389627\n",
      "\n",
      "Epoch 5 \n",
      "--------------------------------------------------\n",
      "loss : 0.249758 [    0]/60000\n",
      "loss : 0.234459 [ 6400]/60000\n",
      "loss : 0.221753 [12800]/60000\n",
      "loss : 0.443257 [19200]/60000\n",
      "loss : 0.433095 [25600]/60000\n",
      "loss : 0.448412 [32000]/60000\n",
      "loss : 0.298998 [38400]/60000\n",
      "loss : 0.412364 [44800]/60000\n",
      "loss : 0.242210 [51200]/60000\n",
      "loss : 0.395431 [57600]/60000\n",
      "Test Error: \n",
      " Accuracy : 86.6%, Avg Loss : 0.379828\n",
      "\n",
      "Epoch 6 \n",
      "--------------------------------------------------\n",
      "loss : 0.434929 [    0]/60000\n",
      "loss : 0.515432 [ 6400]/60000\n",
      "loss : 0.418781 [12800]/60000\n",
      "loss : 0.459187 [19200]/60000\n",
      "loss : 0.249853 [25600]/60000\n",
      "loss : 0.218337 [32000]/60000\n",
      "loss : 0.273317 [38400]/60000\n",
      "loss : 0.301481 [44800]/60000\n",
      "loss : 0.364794 [51200]/60000\n",
      "loss : 0.559042 [57600]/60000\n",
      "Test Error: \n",
      " Accuracy : 86.7%, Avg Loss : 0.377250\n",
      "\n",
      "Epoch 7 \n",
      "--------------------------------------------------\n",
      "loss : 0.209146 [    0]/60000\n",
      "loss : 0.350489 [ 6400]/60000\n",
      "loss : 0.298361 [12800]/60000\n",
      "loss : 0.556115 [19200]/60000\n",
      "loss : 0.405886 [25600]/60000\n",
      "loss : 0.372786 [32000]/60000\n",
      "loss : 0.256667 [38400]/60000\n",
      "loss : 0.308971 [44800]/60000\n",
      "loss : 0.286538 [51200]/60000\n",
      "loss : 0.446726 [57600]/60000\n",
      "Test Error: \n",
      " Accuracy : 86.4%, Avg Loss : 0.375474\n",
      "\n",
      "Epoch 8 \n",
      "--------------------------------------------------\n",
      "loss : 0.337970 [    0]/60000\n",
      "loss : 0.284573 [ 6400]/60000\n",
      "loss : 0.245400 [12800]/60000\n",
      "loss : 0.357989 [19200]/60000\n",
      "loss : 0.352337 [25600]/60000\n",
      "loss : 0.285878 [32000]/60000\n",
      "loss : 0.471569 [38400]/60000\n",
      "loss : 0.320660 [44800]/60000\n",
      "loss : 0.477159 [51200]/60000\n",
      "loss : 0.259506 [57600]/60000\n",
      "Test Error: \n",
      " Accuracy : 87.1%, Avg Loss : 0.364105\n",
      "\n",
      "Epoch 9 \n",
      "--------------------------------------------------\n",
      "loss : 0.205091 [    0]/60000\n",
      "loss : 0.248191 [ 6400]/60000\n",
      "loss : 0.248802 [12800]/60000\n",
      "loss : 0.430210 [19200]/60000\n",
      "loss : 0.373036 [25600]/60000\n",
      "loss : 0.302043 [32000]/60000\n",
      "loss : 0.217790 [38400]/60000\n",
      "loss : 0.211239 [44800]/60000\n",
      "loss : 0.579055 [51200]/60000\n",
      "loss : 0.297166 [57600]/60000\n",
      "Test Error: \n",
      " Accuracy : 87.5%, Avg Loss : 0.355160\n",
      "\n",
      "Epoch 10 \n",
      "--------------------------------------------------\n",
      "loss : 0.301334 [    0]/60000\n",
      "loss : 0.120498 [ 6400]/60000\n",
      "loss : 0.212872 [12800]/60000\n",
      "loss : 0.228082 [19200]/60000\n",
      "loss : 0.302496 [25600]/60000\n",
      "loss : 0.223125 [32000]/60000\n",
      "loss : 0.395759 [38400]/60000\n",
      "loss : 0.340667 [44800]/60000\n",
      "loss : 0.281826 [51200]/60000\n",
      "loss : 0.119372 [57600]/60000\n",
      "Test Error: \n",
      " Accuracy : 86.9%, Avg Loss : 0.367636\n",
      "\n",
      "Done!\n"
     ]
    }
   ],
   "source": [
    "epochs = 10\n",
    "\n",
    "for i in range(epochs):\n",
    "    print(f'Epoch {i+1} \\n--------------------------------------------------')\n",
    "    train_loop(train_dataloader, model, loss, optimizer)\n",
    "    test_loop(test_dataloader, model, loss)\n",
    "print(\"Done!\")"
   ]
  },
  {
   "cell_type": "markdown",
   "id": "99726dc3",
   "metadata": {},
   "source": [
    "# Model save & load"
   ]
  },
  {
   "cell_type": "markdown",
   "id": "1cef4f48",
   "metadata": {},
   "source": [
    "# parameter만 저장 (weight값만 저장)"
   ]
  },
  {
   "cell_type": "code",
   "execution_count": 32,
   "id": "ae3d9c37",
   "metadata": {},
   "outputs": [],
   "source": [
    "torch.save(model.state_dict(), 'model_weights.pth')"
   ]
  },
  {
   "cell_type": "code",
   "execution_count": 33,
   "id": "ea2eb499",
   "metadata": {},
   "outputs": [
    {
     "name": "stdout",
     "output_type": "stream",
     "text": [
      "NeuralNetwork(\n",
      "  (flatten): Flatten(start_dim=1, end_dim=-1)\n",
      "  (classifier): Sequential(\n",
      "    (0): Linear(in_features=784, out_features=128, bias=True)\n",
      "    (1): ReLU()\n",
      "    (2): Dropout(p=0.2, inplace=False)\n",
      "    (3): Linear(in_features=128, out_features=10, bias=True)\n",
      "  )\n",
      ")\n"
     ]
    }
   ],
   "source": [
    "model2 = NeuralNetwork().to(device)\n",
    "print(model2)"
   ]
  },
  {
   "cell_type": "code",
   "execution_count": 35,
   "id": "a95325b6",
   "metadata": {},
   "outputs": [
    {
     "data": {
      "text/plain": [
       "<All keys matched successfully>"
      ]
     },
     "execution_count": 35,
     "metadata": {},
     "output_type": "execute_result"
    }
   ],
   "source": [
    "model2.load_state_dict(torch.load('model_weights.pth'))"
   ]
  },
  {
   "cell_type": "code",
   "execution_count": 36,
   "id": "2cd66f3a",
   "metadata": {},
   "outputs": [
    {
     "name": "stdout",
     "output_type": "stream",
     "text": [
      "Test Error: \n",
      " Accuracy : 88.0%, Avg Loss : 0.336402\n",
      "\n"
     ]
    }
   ],
   "source": [
    "model2.eval()\n",
    "test_loop(test_dataloader, model2, loss)"
   ]
  },
  {
   "cell_type": "markdown",
   "id": "5cfced9b",
   "metadata": {},
   "source": [
    "# Model 전체를 저장하고 불러오기"
   ]
  },
  {
   "cell_type": "code",
   "execution_count": 37,
   "id": "a58fb47b",
   "metadata": {},
   "outputs": [],
   "source": [
    "torch.save(model, 'model.pth')"
   ]
  },
  {
   "cell_type": "code",
   "execution_count": 38,
   "id": "77bb2f50",
   "metadata": {},
   "outputs": [],
   "source": [
    "model3 = torch.load('model.pth')"
   ]
  },
  {
   "cell_type": "code",
   "execution_count": 39,
   "id": "f73bd2b4",
   "metadata": {},
   "outputs": [
    {
     "name": "stdout",
     "output_type": "stream",
     "text": [
      "Test Error: \n",
      " Accuracy : 88.0%, Avg Loss : 0.336402\n",
      "\n"
     ]
    }
   ],
   "source": [
    "model3.eval()\n",
    "test_loop(test_dataloader, model3, loss)"
   ]
  }
 ],
 "metadata": {
  "kernelspec": {
   "display_name": "pytorch",
   "language": "python",
   "name": "pytorch"
  },
  "language_info": {
   "codemirror_mode": {
    "name": "ipython",
    "version": 3
   },
   "file_extension": ".py",
   "mimetype": "text/x-python",
   "name": "python",
   "nbconvert_exporter": "python",
   "pygments_lexer": "ipython3",
   "version": "3.8.1"
  }
 },
 "nbformat": 4,
 "nbformat_minor": 5
}
